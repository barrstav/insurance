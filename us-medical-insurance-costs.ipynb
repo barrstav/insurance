{
 "cells": [
  {
   "cell_type": "markdown",
   "metadata": {},
   "source": [
    "# U.S. Medical Insurance Costs"
   ]
  },
  {
   "cell_type": "code",
   "execution_count": null,
   "metadata": {},
   "outputs": [],
   "source": []
  },
  {
   "cell_type": "code",
   "execution_count": 119,
   "metadata": {
    "tags": []
   },
   "outputs": [
    {
     "name": "stdout",
     "output_type": "stream",
     "text": [
      "number of females: 662 number of males: 676\n",
      "avergae of all sexes: 39.20702541106129\n",
      "average of female: 39.503021148036254\n",
      "average of male: 38.917159763313606\n"
     ]
    }
   ],
   "source": [
    "import csv\n",
    "\n",
    "age = []\n",
    "sex = []\n",
    "bmi = []\n",
    "children = []\n",
    "smoker = []\n",
    "region = []\n",
    "charges = []\n",
    "\n",
    "with open('insurance.csv') as csvfile:\n",
    "    data = csv.DictReader(csvfile)\n",
    "    for row in data:\n",
    "        age.append(row['age'])\n",
    "        sex.append(row['sex'])\n",
    "        bmi.append(row['bmi'])\n",
    "        children.append(row['children'])\n",
    "        smoker.append(row['smoker'])\n",
    "        region.append(row['region'])\n",
    "        charges.append(row['charges'])\n",
    "\n",
    "def count_sex(sex_data):\n",
    "    female_count = 0\n",
    "    male_count = 0\n",
    "    for sex in sex_data:\n",
    "        if sex == 'female':\n",
    "            female_count += 1\n",
    "        if sex == 'male':\n",
    "            male_count += 1\n",
    "    return ('number of females: ' + str(female_count) + ' number of males: ' + str(male_count))\n",
    "\n",
    "print(count_sex(sex))\n",
    "\n",
    "age = list(map(int, age))\n",
    "print('avergae of all sexes: ' + str(sum(age) / len(age)))\n",
    "\n",
    "female = []\n",
    "male  = []\n",
    "\n",
    "for a, b in zip(age, sex):\n",
    "    if b == 'female':\n",
    "        female.append(a)\n",
    "    if b == 'male':\n",
    "        male.append(a)\n",
    "\n",
    "print('average age of female: ' + str(sum(female) / len(female)))\n",
    "print('average age of male: ' + str(sum(male) / len(male)))\n",
    "        \n",
    "        \n",
    "\n",
    "\n",
    "\n",
    "\n",
    "\n",
    "\n",
    "\n",
    "\n",
    "\n",
    "\n",
    "\n",
    "    \n"
   ]
  },
  {
   "cell_type": "markdown",
   "metadata": {},
   "source": []
  }
 ],
 "metadata": {
  "kernelspec": {
   "display_name": "Python 3",
   "language": "python",
   "name": "python3"
  },
  "language_info": {
   "codemirror_mode": {
    "name": "ipython",
    "version": 3
   },
   "file_extension": ".py",
   "mimetype": "text/x-python",
   "name": "python",
   "nbconvert_exporter": "python",
   "pygments_lexer": "ipython3",
   "version": "3.11.1"
  },
  "vscode": {
   "interpreter": {
    "hash": "aee8b7b246df8f9039afb4144a1f6fd8d2ca17a180786b69acc140d282b71a49"
   }
  }
 },
 "nbformat": 4,
 "nbformat_minor": 4
}
